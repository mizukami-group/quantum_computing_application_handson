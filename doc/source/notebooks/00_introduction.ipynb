{
 "cells": [
  {
   "cell_type": "markdown",
   "metadata": {},
   "source": [
    "# はじめに - 量子計算アプリケーション入門\n",
    "\n",
    "このノートブックでは、量子計算の基本的な概念と、本ハンズオン教材の使い方について説明します。"
   ]
  },
  {
   "cell_type": "markdown",
   "metadata": {},
   "source": [
    "## 環境の確認\n",
    "\n",
    "まず、必要なライブラリが正しくインストールされているか確認しましょう。"
   ]
  },
  {
   "cell_type": "code",
   "execution_count": null,
   "metadata": {},
   "outputs": [],
   "source": [
    "# 必要なライブラリのインポート\n",
    "import numpy as np\n",
    "import matplotlib.pyplot as plt\n",
    "from qulacs import QuantumState, QuantumCircuit\n",
    "from qulacs.gate import H, CNOT, RY, RZ\n",
    "\n",
    "print(\"すべてのライブラリが正常にインポートされました！\")"
   ]
  },
  {
   "cell_type": "markdown",
   "metadata": {},
   "source": [
    "## 最初の量子回路\n",
    "\n",
    "簡単な量子回路を作成してみましょう。ここでは、2量子ビットのBell状態（もつれ状態）を作成します。"
   ]
  },
  {
   "cell_type": "code",
   "execution_count": null,
   "metadata": {},
   "outputs": [],
   "source": [
    "# 2量子ビットの量子状態を初期化\n",
    "n_qubits = 2\n",
    "state = QuantumState(n_qubits)\n",
    "state.set_zero_state()\n",
    "\n",
    "# 量子回路を作成\n",
    "circuit = QuantumCircuit(n_qubits)\n",
    "\n",
    "# Hadamardゲートを0番目の量子ビットに適用\n",
    "circuit.add_H_gate(0)\n",
    "\n",
    "# CNOTゲートを適用（制御ビット: 0, 標的ビット: 1）\n",
    "circuit.add_CNOT_gate(0, 1)\n",
    "\n",
    "# 回路を量子状態に適用\n",
    "circuit.update_quantum_state(state)\n",
    "\n",
    "# 状態ベクトルを取得して表示\n",
    "state_vector = state.get_vector()\n",
    "print(\"Bell状態の状態ベクトル:\")\n",
    "print(state_vector)\n",
    "print(\"\\n|00⟩と|11⟩の重ね合わせ状態が作成されました！\")"
   ]
  },
  {
   "cell_type": "markdown",
   "metadata": {},
   "source": [
    "## 測定と確率\n",
    "\n",
    "量子状態を測定して、各基底状態の確率を確認してみましょう。"
   ]
  },
  {
   "cell_type": "code",
   "execution_count": null,
   "metadata": {},
   "outputs": [],
   "source": [
    "# 各計算基底の確率を計算\n",
    "probabilities = np.abs(state_vector)**2\n",
    "\n",
    "# 結果を表示\n",
    "basis_states = ['|00⟩', '|01⟩', '|10⟩', '|11⟩']\n",
    "for i, (basis, prob) in enumerate(zip(basis_states, probabilities)):\n",
    "    print(f\"{basis}: {prob:.3f}\")\n",
    "\n",
    "# 確率分布を可視化\n",
    "plt.figure(figsize=(8, 6))\n",
    "plt.bar(basis_states, probabilities, color='steelblue', alpha=0.8)\n",
    "plt.xlabel('基底状態', fontsize=12)\n",
    "plt.ylabel('確率', fontsize=12)\n",
    "plt.title('Bell状態の測定確率分布', fontsize=14)\n",
    "plt.ylim(0, 0.6)\n",
    "plt.grid(True, alpha=0.3)\n",
    "plt.show()"
   ]
  },
  {
   "cell_type": "markdown",
   "metadata": {},
   "source": [
    "## 次のステップ\n",
    "\n",
    "このノートブックでは、量子計算の基本的な操作を学びました：\n",
    "\n",
    "1. 量子状態の初期化\n",
    "2. 量子ゲートの適用\n",
    "3. 量子もつれ状態（Bell状態）の作成\n",
    "4. 測定確率の計算と可視化\n",
    "\n",
    "次の章では、より複雑な量子アルゴリズムについて学んでいきます。"
   ]
  }
 ],
 "metadata": {
  "kernelspec": {
   "display_name": "Python 3",
   "language": "python",
   "name": "python3"
  },
  "language_info": {
   "codemirror_mode": {
    "name": "ipython",
    "version": 3
   },
   "file_extension": ".py",
   "mimetype": "text/x-python",
   "name": "python",
   "nbconvert_exporter": "python",
   "pygments_lexer": "ipython3",
   "version": "3.8.0"
  }
 },
 "nbformat": 4,
 "nbformat_minor": 4
}