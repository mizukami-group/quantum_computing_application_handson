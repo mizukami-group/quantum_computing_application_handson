{
 "cells": [
  {
   "cell_type": "markdown",
   "metadata": {},
   "source": [
    "# QURI Parts入門 - 量子回路と量子状態の基礎\n",
    "\n",
    "このノートブックでは、QURI Partsを使った量子計算の基本を学びます。\n",
    "\n",
    "QURI Partsは、量子アルゴリズムの研究・開発のための統合的なPythonライブラリです。"
   ]
  },
  {
   "cell_type": "markdown",
   "metadata": {},
   "source": "## 1. 環境の確認とインポート\n\n### Google Colabをお使いの場合\n最初に以下のセルを実行してQURI Partsをインストールしてください：",
   "outputs": []
  },
  {
   "cell_type": "code",
   "source": "# Google Colab環境でQURI Partsをインストール\n# MyBinder環境では既にインストール済みなので、このセルはスキップできます\ntry:\n    import google.colab\n    !python -m pip install -q quri-parts[qulacs,openfermion]==0.22.0 matplotlib\n    print(\"QURI Partsのインストールが完了しました！\")\nexcept ImportError:\n    print(\"MyBinder環境で実行中です。QURI Partsは既にインストールされています。\")",
   "metadata": {},
   "outputs": []
  },
  {
   "cell_type": "code",
   "execution_count": null,
   "metadata": {},
   "outputs": [],
   "source": [
    "# 必要なライブラリのインポート\n",
    "import numpy as np\n",
    "import matplotlib.pyplot as plt\n",
    "\n",
    "# QURI Partsのコアモジュール\n",
    "from quri_parts.core.state import quantum_state, ComputationalBasisState, GeneralCircuitQuantumState\n",
    "from quri_parts.core.circuit import QuantumCircuit, H, X, Y, Z, CNOT, RX, RY, RZ\n",
    "from quri_parts.core.measurement import bitwise_commuting_pauli_measurement\n",
    "from quri_parts.core.operator import Operator, pauli_label, zero\n",
    "\n",
    "print(\"QURI Partsが正常にインポートされました！\")"
   ]
  },
  {
   "cell_type": "markdown",
   "metadata": {},
   "source": [
    "## 2. 基本的な量子回路の作成\n",
    "\n",
    "まず、簡単な量子回路を作成してみましょう。"
   ]
  },
  {
   "cell_type": "code",
   "execution_count": null,
   "metadata": {},
   "outputs": [],
   "source": [
    "# 2量子ビットの回路を作成\n",
    "circuit = QuantumCircuit(2)\n",
    "\n",
    "# ゲートを追加\n",
    "circuit.add_H_gate(0)  # 0番目の量子ビットにHadamardゲート\n",
    "circuit.add_CNOT_gate(0, 1)  # CNOTゲート（制御: 0, 標的: 1）\n",
    "\n",
    "print(\"作成した量子回路:\")\n",
    "print(circuit)\n",
    "print(f\"\\n回路の深さ: {circuit.depth}\")\n",
    "print(f\"ゲート数: {len(circuit.gates)}\")"
   ]
  },
  {
   "cell_type": "markdown",
   "metadata": {},
   "source": [
    "## 3. 量子状態の作成と操作\n",
    "\n",
    "QURI Partsでは、様々な方法で量子状態を作成できます。"
   ]
  },
  {
   "cell_type": "code",
   "execution_count": null,
   "metadata": {},
   "outputs": [],
   "source": [
    "# 計算基底状態 |00⟩ を作成\n",
    "zero_state = ComputationalBasisState(2, bits=0b00)\n",
    "\n",
    "# 回路を適用して新しい状態を作成（Bell状態）\n",
    "bell_state = GeneralCircuitQuantumState(2, circuit)\n",
    "\n",
    "print(\"Bell状態が作成されました\")\n",
    "print(f\"量子ビット数: {bell_state.qubit_count}\")\n",
    "print(f\"適用された回路の深さ: {bell_state.circuit.depth}\")"
   ]
  },
  {
   "cell_type": "markdown",
   "metadata": {},
   "source": [
    "## 4. 量子状態のシミュレーション\n",
    "\n",
    "Qulacsバックエンドを使って状態ベクトルを計算します。"
   ]
  },
  {
   "cell_type": "code",
   "execution_count": null,
   "metadata": {},
   "outputs": [],
   "source": [
    "# Qulacsシミュレータを使用\n",
    "from quri_parts.qulacs.simulator import evaluate_state_to_vector\n",
    "\n",
    "# Bell状態の状態ベクトルを計算\n",
    "state_vector = evaluate_state_to_vector(bell_state)\n",
    "\n",
    "print(\"Bell状態の状態ベクトル:\")\n",
    "for i, amplitude in enumerate(state_vector.vector):\n",
    "    if abs(amplitude) > 1e-10:\n",
    "        print(f\"|{i:02b}⟩: {amplitude:.3f}\")\n",
    "\n",
    "# 確率分布を計算\n",
    "probabilities = np.abs(state_vector.vector)**2\n",
    "print(\"\\n測定確率:\")\n",
    "for i, prob in enumerate(probabilities):\n",
    "    if prob > 1e-10:\n",
    "        print(f\"|{i:02b}⟩: {prob:.3f}\")"
   ]
  },
  {
   "cell_type": "markdown",
   "metadata": {},
   "source": [
    "## 5. パラメトリック量子回路\n",
    "\n",
    "変分量子アルゴリズムで使用されるパラメトリック回路を作成します。"
   ]
  },
  {
   "cell_type": "code",
   "execution_count": null,
   "metadata": {},
   "outputs": [],
   "source": [
    "from quri_parts.core.circuit import ParametricQuantumCircuit\n",
    "\n",
    "# パラメトリック回路を作成\n",
    "param_circuit = ParametricQuantumCircuit(2)\n",
    "\n",
    "# パラメータ付きゲートを追加\n",
    "param_circuit.add_ParametricRY_gate(0)  # θ0\n",
    "param_circuit.add_ParametricRY_gate(1)  # θ1\n",
    "param_circuit.add_CNOT_gate(0, 1)\n",
    "param_circuit.add_ParametricRZ_gate(0)  # θ2\n",
    "param_circuit.add_ParametricRZ_gate(1)  # θ3\n",
    "\n",
    "print(f\"パラメータ数: {param_circuit.parameter_count}\")\n",
    "print(\"\\nパラメトリック回路:\")\n",
    "print(param_circuit)"
   ]
  },
  {
   "cell_type": "code",
   "execution_count": null,
   "metadata": {},
   "outputs": [],
   "source": [
    "# パラメータに具体的な値を代入\n",
    "params = [np.pi/4, np.pi/3, np.pi/6, np.pi/2]\n",
    "concrete_circuit = param_circuit.bind_parameters(params)\n",
    "\n",
    "print(\"パラメータを代入した回路:\")\n",
    "print(concrete_circuit)\n",
    "\n",
    "# この回路で状態を作成\n",
    "param_state = GeneralCircuitQuantumState(2, concrete_circuit)\n",
    "param_vector = evaluate_state_to_vector(param_state)\n",
    "\n",
    "print(\"\\n結果の状態ベクトル:\")\n",
    "for i, amplitude in enumerate(param_vector.vector):\n",
    "    if abs(amplitude) > 1e-10:\n",
    "        print(f\"|{i:02b}⟩: {amplitude:.3f}\")"
   ]
  },
  {
   "cell_type": "markdown",
   "metadata": {},
   "source": [
    "## 6. 観測量と期待値\n",
    "\n",
    "量子状態に対する観測量の期待値を計算します。"
   ]
  },
  {
   "cell_type": "code",
   "execution_count": null,
   "metadata": {},
   "outputs": [],
   "source": [
    "# Pauli Z演算子を定義\n",
    "z0 = Operator({pauli_label(\"Z0\"): 1.0})  # Z on qubit 0\n",
    "z1 = Operator({pauli_label(\"Z1\"): 1.0})  # Z on qubit 1\n",
    "zz = Operator({pauli_label(\"Z0 Z1\"): 1.0})  # Z⊗Z\n",
    "\n",
    "# 期待値を計算\n",
    "from quri_parts.qulacs.estimator import create_qulacs_vector_estimator\n",
    "\n",
    "estimator = create_qulacs_vector_estimator()\n",
    "\n",
    "# Bell状態での期待値\n",
    "exp_z0 = estimator(z0, bell_state)\n",
    "exp_z1 = estimator(z1, bell_state)\n",
    "exp_zz = estimator(zz, bell_state)\n",
    "\n",
    "print(\"Bell状態での期待値:\")\n",
    "print(f\"<Z0> = {exp_z0.value:.3f}\")\n",
    "print(f\"<Z1> = {exp_z1.value:.3f}\")\n",
    "print(f\"<Z0⊗Z1> = {exp_zz.value:.3f}\")"
   ]
  },
  {
   "cell_type": "markdown",
   "metadata": {},
   "source": [
    "## 7. 測定シミュレーション\n",
    "\n",
    "量子状態の測定をシミュレートします。"
   ]
  },
  {
   "cell_type": "code",
   "metadata": {},
   "outputs": [],
   "source": "from quri_parts.qulacs.sampler import create_qulacs_vector_sampler\n\n# サンプラーを作成\nsampler = create_qulacs_vector_sampler()\n\n# 1000回測定（回路を渡す）\nn_shots = 1000\ncounts = sampler(circuit, shots=n_shots)  # bell_stateではなくcircuitを渡す\n\nprint(f\"測定結果 ({n_shots}回):\")\nfor bits, count in counts.items():\n    print(f\"|{bits:02b}⟩: {count}回 ({count/n_shots:.1%})\")\n\n# 測定結果を可視化\nbasis_labels = [f\"|{i:02b}⟩\" for i in range(4)]\nmeasured_probs = [counts.get(i, 0) / n_shots for i in range(4)]\ntheoretical_probs = probabilities\n\nx = np.arange(len(basis_labels))\nwidth = 0.35\n\nfig, ax = plt.subplots(figsize=(8, 6))\nbars1 = ax.bar(x - width/2, theoretical_probs, width, label='理論値', alpha=0.8)\nbars2 = ax.bar(x + width/2, measured_probs, width, label='測定値', alpha=0.8)\n\nax.set_xlabel('基底状態')\nax.set_ylabel('確率')\nax.set_title('Bell状態の測定結果')\nax.set_xticks(x)\nax.set_xticklabels(basis_labels)\nax.legend()\nax.grid(True, alpha=0.3)\n\nplt.tight_layout()\nplt.show()"
  },
  {
   "cell_type": "markdown",
   "metadata": {},
   "source": [
    "## まとめ\n",
    "\n",
    "このノートブックでは、QURI Partsの基本的な使い方を学びました：\n",
    "\n",
    "1. **量子回路の作成**: `QuantumCircuit`クラスを使った回路構築\n",
    "2. **量子状態の定義**: `ComputationalBasisState`と`GeneralCircuitQuantumState`\n",
    "3. **状態ベクトルシミュレーション**: Qulacsバックエンドによる計算\n",
    "4. **パラメトリック回路**: 変分量子アルゴリズムの基礎\n",
    "5. **観測量と期待値**: Pauli演算子の期待値計算\n",
    "6. **測定シミュレーション**: 確率的な測定結果の生成\n",
    "\n",
    "QURI Partsは、これらの基本機能に加えて、量子化学計算、量子機械学習、エラー緩和など、高度な量子アルゴリズムの実装もサポートしています。"
   ]
  }
 ],
 "metadata": {
  "kernelspec": {
   "display_name": "Python 3",
   "language": "python",
   "name": "python3"
  },
  "language_info": {
   "codemirror_mode": {
    "name": "ipython",
    "version": 3
   },
   "file_extension": ".py",
   "mimetype": "text/x-python",
   "name": "python",
   "nbconvert_exporter": "python",
   "pygments_lexer": "ipython3",
   "version": "3.9.0"
  }
 },
 "nbformat": 4,
 "nbformat_minor": 4
}